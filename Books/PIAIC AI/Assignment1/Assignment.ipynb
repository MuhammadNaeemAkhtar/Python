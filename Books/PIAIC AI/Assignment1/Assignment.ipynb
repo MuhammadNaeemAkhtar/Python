{
 "cells": [
  {
   "cell_type": "markdown",
   "metadata": {},
   "source": [
    "# 1..CITY NAMES: Write a function called city_country() that takes in the name of a city and its country. The function should return a string formatted like this: \"Santiago, Chile\" Call your function with at least three city-country pairs, and print the values that are returned."
   ]
  },
  {
   "cell_type": "code",
   "execution_count": 1,
   "metadata": {},
   "outputs": [
    {
     "name": "stdout",
     "output_type": "stream",
     "text": [
      "Fasialabad, Pakistan\n",
      "Turin, Italy\n",
      "Recife, Brazil\n"
     ]
    }
   ],
   "source": [
    "def city_country(city, country):\n",
    "    return city + \", \" + country\n",
    "\n",
    "print(city_country(\"Fasialabad\", \"Pakistan\"))\n",
    "print(city_country(\"Turin\", \"Italy\"))\n",
    "print(city_country(\"Recife\", \"Brazil\"))"
   ]
  },
  {
   "cell_type": "markdown",
   "metadata": {},
   "source": [
    "# 2. T-SHIRT: Write a function called make_shirt() that accepts a size and the text of a message that should be printed on the shirt. The function should print a sentence summarizing the size of the shirt and the message printed on it. Call the function once using positional arguments to make a shirt. Call the function a second time using keyword arguments."
   ]
  },
  {
   "cell_type": "code",
   "execution_count": 6,
   "metadata": {},
   "outputs": [
    {
     "name": "stdout",
     "output_type": "stream",
     "text": [
      "Printed \"I love Pakistan\" on shirt of size 27\n",
      "Printed \"I love Pakistan\" on shirt of size 27\n"
     ]
    }
   ],
   "source": [
    "def make_shirt(size, message):\n",
    "    print(f\"\"\"Printed \"{message}\" on shirt of size {size}.\"\"\")\n",
    "\n",
    "#Calling function with positional arguments\n",
    "make_shirt(27, \"I love Pakistan\")\n",
    "#Calling function with keyword arguments\n",
    "make_shirt(size=27, message=\"I love Pakistan\")"
   ]
  },
  {
   "cell_type": "markdown",
   "metadata": {},
   "source": [
    "# 3.CITIES: Write a function called describe_city() that accepts the name of a city and its country. The function should print a simple sentence, such as Reykjavik is in Iceland. Give the parameter for the country a default value. Call your function for three different cities, at least one of which is not in the default country."
   ]
  },
  {
   "cell_type": "code",
   "execution_count": 7,
   "metadata": {},
   "outputs": [
    {
     "name": "stdout",
     "output_type": "stream",
     "text": [
      "Faisalabad is in Pakistan\n",
      "Karachi is in Pakistan\n",
      "Turin is in Italy\n"
     ]
    }
   ],
   "source": [
    "def describe_city(city, country=\"Pakistan\"):\n",
    "    print(f\"{city.title()} is in {country.title()}.\")\n",
    "\n",
    "describe_city(\"Faisalabad\")\n",
    "describe_city(\"Karachi\")\n",
    "describe_city(\"Turin\", \"Italy\")"
   ]
  },
  {
   "cell_type": "markdown",
   "metadata": {},
   "source": [
    "# 4..Make a function to find factorials of given number"
   ]
  },
  {
   "cell_type": "code",
   "execution_count": 13,
   "metadata": {},
   "outputs": [
    {
     "name": "stdout",
     "output_type": "stream",
     "text": [
      "Enter number:5\n",
      "Factorial of 5 is: 120\n"
     ]
    }
   ],
   "source": [
    "def calculate_factorial(number):\n",
    "    if( number == 0 ):\n",
    "        print(f\"Factorial of 0 is: 1\")\n",
    "    elif( number < 0 ):\n",
    "        print(f\"Factorial of negative numbers can't be computed\")\n",
    "    elif( number > 0 ):\n",
    "        factorial = 1\n",
    "        for num in range(number, 1, -1):\n",
    "            factorial = factorial * num\n",
    "        print(f\"Factorial of {number} is: {factorial}\")\n",
    "    else:\n",
    "        print(f\"Something is wrong\")\n",
    "\n",
    "number = int(input(\"Enter number: \"))\n",
    "calculate_factorial(number)"
   ]
  },
  {
   "cell_type": "markdown",
   "metadata": {},
   "source": [
    "# 5. function to find Faboocii series till given Number"
   ]
  },
  {
   "cell_type": "code",
   "execution_count": 25,
   "metadata": {},
   "outputs": [
    {
     "name": "stdout",
     "output_type": "stream",
     "text": [
      "Enter Number: 10\n",
      "0 1 1 2 3 5 8 13 21 34 "
     ]
    }
   ],
   "source": [
    "def fibonacci_series(number):\n",
    "    num1 = 0\n",
    "    num2 = 1\n",
    "    temp = 0\n",
    "    for num in range(0,number):\n",
    "        print(num1, end=\" \")\n",
    "        temp = num1 + num2\n",
    "        num1 = num2\n",
    "        num2 = temp\n",
    "\n",
    "number = int(input(\"Enter Number: \"))\n",
    "fibonacci_series(number)"
   ]
  },
  {
   "cell_type": "markdown",
   "metadata": {},
   "source": [
    "# 6. function to print pair prime numbers till given input number"
   ]
  },
  {
   "cell_type": "code",
   "execution_count": 61,
   "metadata": {},
   "outputs": [
    {
     "name": "stdout",
     "output_type": "stream",
     "text": [
      "Enter a number: 20\n",
      "( 3 , 5 )\n",
      "( 5 , 7 )\n",
      "( 11 , 13 )\n",
      "( 17 , 19 )\n"
     ]
    }
   ],
   "source": [
    "def prime_numbers(number):\n",
    "    prime_num = []\n",
    "    for num in range(2, number+1):\n",
    "        for i in range(2, num):\n",
    "            if num % i == 0:\n",
    "                break\n",
    "        else:\n",
    "            prime_num.append(num)\n",
    "    for i in range(len(prime_num)-1):\n",
    "        if ( (prime_num[i+1] - prime_num[i]) == 2):\n",
    "            print(f\"( {prime_num[i]} , {prime_num[i+1]} )\")\n",
    "            \n",
    "number = int(input(\"Enter a number: \"))\n",
    "prime_numbers(number)"
   ]
  },
  {
   "cell_type": "markdown",
   "metadata": {},
   "source": [
    "# 7..Make a function, that takes a list as argument, return a list of square of each elements in the argument lists and finally prints both lists."
   ]
  },
  {
   "cell_type": "code",
   "execution_count": 62,
   "metadata": {},
   "outputs": [
    {
     "name": "stdout",
     "output_type": "stream",
     "text": [
      "List 1: [2, 3, 4, 5, 6]\n",
      "List square: [4, 9, 16, 25, 36]\n"
     ]
    }
   ],
   "source": [
    "def list_square(list1):\n",
    "    listSquare = []\n",
    "    for element in list1:\n",
    "        listSquare.append(element**2)\n",
    "    return listSquare\n",
    "\n",
    "list1 = [2, 3, 4, 5, 6]\n",
    "print(f\"List 1: {list1}\")\n",
    "print(f\"List square: {list_square(list1)}\")"
   ]
  },
  {
   "cell_type": "code",
   "execution_count": null,
   "metadata": {},
   "outputs": [],
   "source": []
  }
 ],
 "metadata": {
  "kernelspec": {
   "display_name": "Python 3",
   "language": "python",
   "name": "python3"
  },
  "language_info": {
   "codemirror_mode": {
    "name": "ipython",
    "version": 3
   },
   "file_extension": ".py",
   "mimetype": "text/x-python",
   "name": "python",
   "nbconvert_exporter": "python",
   "pygments_lexer": "ipython3",
   "version": "3.7.6"
  }
 },
 "nbformat": 4,
 "nbformat_minor": 4
}
