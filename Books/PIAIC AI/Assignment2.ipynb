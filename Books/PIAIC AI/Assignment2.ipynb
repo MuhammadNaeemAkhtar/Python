{
 "cells": [
  {
   "cell_type": "markdown",
   "metadata": {},
   "source": [
    "# 1. Write python program that do the following. Take a number from user create a while loop that passes each digit (from 1-to-entered number by user) to a function that further check the number either it is strong number or not When number is strong number then print that number on the screen (A number is called strong number if sum of the factorial of its digit is equal to number itself.For example: 145 since 1! + 4! + 5! = 1 + 24 + 120 = 145) "
   ]
  },
  {
   "cell_type": "code",
   "execution_count": 28,
   "metadata": {},
   "outputs": [
    {
     "name": "stdout",
     "output_type": "stream",
     "text": [
      "Enter a number: 10\n",
      "1 is a strong number\n",
      "2 is a strong number\n",
      "3 is not a strong number\n",
      "4 is not a strong number\n",
      "5 is not a strong number\n",
      "6 is not a strong number\n",
      "7 is not a strong number\n",
      "8 is not a strong number\n",
      "9 is not a strong number\n",
      "10 is not a strong number\n"
     ]
    }
   ],
   "source": [
    "def factorial(num):\n",
    "    result = 1\n",
    "    for i in range(num,1,-1):\n",
    "        result = result * i\n",
    "    return result\n",
    "\n",
    "def isStrong(number):\n",
    "    temp = number\n",
    "    fact = 0\n",
    "    while (temp > 0):\n",
    "        fact = fact + factorial(temp % 10)\n",
    "        temp = temp//10\n",
    "    if(fact == number):\n",
    "        return True\n",
    "    return False\n",
    "\n",
    "number = int(input(\"Enter a number: \")) \n",
    "for num in range(1,number+1):\n",
    "    if( isStrong(num) ):\n",
    "        print(f\"{num} is a strong number\")\n",
    "    else:\n",
    "        print(f\"{num} is not a strong number\")"
   ]
  },
  {
   "cell_type": "markdown",
   "metadata": {},
   "source": [
    "# 2. Write python program that print pyramid shape take total number of rows from user same as for other numbers and restrict the user to enter only positive number if he/she didn't enter positive number take input again by showing appropriate error "
   ]
  },
  {
   "cell_type": "code",
   "execution_count": 19,
   "metadata": {},
   "outputs": [
    {
     "name": "stdout",
     "output_type": "stream",
     "text": [
      "Enter a positive number: 5\n",
      "    *\n",
      "   * *\n",
      "  * * *\n",
      " * * * *\n",
      "* * * * *\n"
     ]
    }
   ],
   "source": [
    "number = int(input(\"Enter a positive number: \"))\n",
    "while( number < 0 ):\n",
    "    number = int(input(\"Enter a positive number: \"))\n",
    "temp = number\n",
    "tempCol = 1\n",
    "for row in range(1, number + 1):\n",
    "    temp = temp - 1;\n",
    "    for col in range(1, temp+1):\n",
    "        print(\" \", end=\"\")\n",
    "    \n",
    "    if row > 1:\n",
    "        tempCol = row + row - 1  # 3 + 3\n",
    "    for col in range(1, tempCol + 1):\n",
    "        if(col%2 != 0):\n",
    "            print(\"*\", end=\"\")\n",
    "        else:\n",
    "            print(\" \", end=\"\")\n",
    "    print(\"\")"
   ]
  },
  {
   "cell_type": "markdown",
   "metadata": {},
   "source": [
    "# Question 3"
   ]
  },
  {
   "cell_type": "code",
   "execution_count": 6,
   "metadata": {},
   "outputs": [
    {
     "name": "stdout",
     "output_type": "stream",
     "text": [
      "['A', '.']\n"
     ]
    }
   ],
   "source": [
    "inputString = \"A.\"\n",
    "print(list(inputString))"
   ]
  },
  {
   "cell_type": "code",
   "execution_count": 99,
   "metadata": {},
   "outputs": [
    {
     "name": "stdout",
     "output_type": "stream",
     "text": [
      "CASE #1: N\n",
      "CASE #2: Y\n",
      "CASE #3: N\n",
      "CASE #4: Y\n",
      "CASE #5: N\n",
      "CASE #6: N\n",
      "CASE #7: N\n",
      "CASE #8: N\n"
     ]
    }
   ],
   "source": [
    "def to_check(inputString):\n",
    "    storeString = \"A\"\n",
    "    #inputString = \"A.\"\n",
    "    #tempString = inputString\n",
    "    #print(inputString)\n",
    "    prevChar = \"\"\n",
    "    curChar = \"\"\n",
    "    nextChar = \"\"\n",
    "\n",
    "    curIndex = 0\n",
    "    prevIndex = 0\n",
    "    index_a = inputString.index(\"A\")\n",
    "    \n",
    "    if inputString.find(\".\") == -1:\n",
    "        return inputString\n",
    "    \n",
    "    if inputString.find(\"B\") == -1:\n",
    "        return inputString\n",
    "    \n",
    "    if inputString[0] == \"A\" and inputString[1] == \".\" and inputString[2] == \".\":\n",
    "        return inputString\n",
    "    \n",
    "    for c in inputString:\n",
    "        curIndex = inputString.index(c, prevIndex)\n",
    "\n",
    "        prevChar = curChar\n",
    "        curChar = c\n",
    "\n",
    "        #print(curIndex, curChar, prevIndex, prevChar)\n",
    "        prevIndex = curIndex\n",
    "        \n",
    "        if curChar == \"A\":\n",
    "            continue\n",
    "        \n",
    "        if curChar == \".\" and prevChar == \"B\":\n",
    "            storeString = storeString.replace(\"A\", curChar) + prevChar + \"A\"\n",
    "        \n",
    "        if curChar == \"B\" and prevChar == \".\":\n",
    "            storeString = prevChar + curChar + storeString\n",
    "        \n",
    "        #if curChar == \".\" and prevChar == \".\" and storeString[-2] == \"B\":\n",
    "            \n",
    "        \n",
    "        if curChar == \"B\" and prevChar == \"B\":\n",
    "            storeString = storeString[:-1] + curChar + \"A\"\n",
    "            \n",
    "            \n",
    "        #storeString = storeString + curChar\n",
    "\n",
    "        #if curChar == \".\" and prevChar == \"B\":\n",
    "        #    inputString = inputString[:curIndex] + \"A\" + inputString[curIndex+1:]\n",
    "        #    inputString = inputString[:index_a] + \".\" + inputString[index_a+1:]\n",
    "        #    index_a = inputString.index(\"A\")\n",
    "        #elif curChar == \".\" and prevChar == \".\":\n",
    "        #    break\n",
    "        \n",
    "    #storeString = inputString\n",
    "    #print(inputString)\n",
    "    return storeString\n",
    "\n",
    "\n",
    "inputStringList = [\"A.\", \"AB.\", \"ABB\", \"A.BB\", \"A..BB..B\", \"A.B..BBB.\", \"AB.....\", \"AB..BBBB.BB\"]\n",
    "\n",
    "for case in range(len(inputStringList)):\n",
    "    frogsString = inputStringList[case]\n",
    "    frogAfterMove = to_check(frogsString)\n",
    "    #print(frogsString, frogAfterMove, frogAfterMove.index(\"A\"), len(frogsString)-1)\n",
    "    if( frogAfterMove.index(\"A\") == len(frogsString)-1 ):\n",
    "        print(f\"CASE #{case+1}: Y\")\n",
    "    else:\n",
    "        print(f\"CASE #{case+1}: N\")\n",
    "#tempString = \"A.\"\n",
    "#inputString = to_check(\"A.\")\n"
   ]
  },
  {
   "cell_type": "code",
   "execution_count": 55,
   "metadata": {},
   "outputs": [
    {
     "name": "stdout",
     "output_type": "stream",
     "text": [
      "A.\n",
      "AB.\n",
      "ABB\n",
      "A.BB\n",
      "A..BB..B\n",
      "A.B..BBB.\n",
      "AB.....\n",
      "AB..BBBB.BB\n"
     ]
    }
   ],
   "source": [
    "inputStringList = [\"A.\", \"AB.\", \"ABB\", \"A.BB\", \"A..BB..B\", \"A.B..BBB.\", \"AB.....\", \"AB..BBBB.BB\"]\n",
    "\n",
    "for i in range(len(inputStringList)):\n",
    "    print(inputStringList[i])"
   ]
  },
  {
   "cell_type": "code",
   "execution_count": 84,
   "metadata": {},
   "outputs": [
    {
     "name": "stdout",
     "output_type": "stream",
     "text": [
      "3\n"
     ]
    }
   ],
   "source": [
    "a = \"hello\"\n",
    "print(a.rfind(\"l\"))"
   ]
  },
  {
   "cell_type": "code",
   "execution_count": null,
   "metadata": {},
   "outputs": [],
   "source": []
  }
 ],
 "metadata": {
  "kernelspec": {
   "display_name": "Python 3",
   "language": "python",
   "name": "python3"
  },
  "language_info": {
   "codemirror_mode": {
    "name": "ipython",
    "version": 3
   },
   "file_extension": ".py",
   "mimetype": "text/x-python",
   "name": "python",
   "nbconvert_exporter": "python",
   "pygments_lexer": "ipython3",
   "version": "3.7.6"
  }
 },
 "nbformat": 4,
 "nbformat_minor": 4
}
