{
 "cells": [
  {
   "cell_type": "markdown",
   "metadata": {},
   "source": [
    "# Q1: How many bytes does an int32 datatype take?"
   ]
  },
  {
   "cell_type": "raw",
   "metadata": {},
   "source": [
    "A)4 B)16 C)32 D)8\n",
    "\n",
    "ANSWER: 4bytes"
   ]
  },
  {
   "cell_type": "markdown",
   "metadata": {},
   "source": [
    "# Q2: The elements in NumPy array have to be the same data type."
   ]
  },
  {
   "cell_type": "raw",
   "metadata": {},
   "source": [
    "true"
   ]
  },
  {
   "cell_type": "markdown",
   "metadata": {},
   "source": [
    "# Q3: Why are numpy arrays are faster than python sequences?"
   ]
  },
  {
   "cell_type": "raw",
   "metadata": {},
   "source": [
    "A)NumPy is updated on a regular basis\n",
    "B)NumPy arrays take less bytes of memory\n",
    "C)NumPy only stores numbers\n",
    "D)NumPy is a library and Python is language\n",
    "\n",
    "ANSWER: B"
   ]
  },
  {
   "cell_type": "markdown",
   "metadata": {},
   "source": [
    "# Q4: Performing mathematical operations on ndarrays rather than Python lists reduces chances of errors."
   ]
  },
  {
   "cell_type": "raw",
   "metadata": {},
   "source": [
    "True"
   ]
  },
  {
   "cell_type": "markdown",
   "metadata": {},
   "source": [
    "# Q5: We can't store strings in numpy arrays. "
   ]
  },
  {
   "cell_type": "raw",
   "metadata": {},
   "source": [
    "False"
   ]
  },
  {
   "cell_type": "markdown",
   "metadata": {},
   "source": [
    "# Q6: How does NumPy make mathematical operations faster."
   ]
  },
  {
   "cell_type": "raw",
   "metadata": {},
   "source": [
    "A)It has more built-in mathematical functions\n",
    "B)It separates mathematical operations from other python code\n",
    "C)It uses object oriented data\n",
    "D)It uses vectorized operations\n",
    "\n",
    "ANSWER: D"
   ]
  },
  {
   "cell_type": "markdown",
   "metadata": {},
   "source": [
    "# Q7: What does operation broadcasting mean."
   ]
  },
  {
   "cell_type": "raw",
   "metadata": {},
   "source": [
    "A)Quick switching of numpy arrays between numpy and python\n",
    "B)Quick switching of numpy arrays between different python files\n",
    "C)element-by-element behaviour of operations\n",
    "D)Easy acces of numpy operations in a python file\n",
    "\n",
    "ANSWER: C"
   ]
  },
  {
   "cell_type": "markdown",
   "metadata": {},
   "source": [
    "# Q8: What does contigous memory means."
   ]
  },
  {
   "cell_type": "raw",
   "metadata": {},
   "source": [
    "A)Memory which contains only binary data\n",
    "B)Compressed memory which takes up less space\n",
    "C)The byte of memmory or blocks are next to each other\n",
    "D)Data in a secured memory with less chances of corruption\n",
    "\n",
    "ANSWER: C"
   ]
  },
  {
   "cell_type": "markdown",
   "metadata": {},
   "source": [
    "# Q9: What does vectorized operation mean."
   ]
  },
  {
   "cell_type": "raw",
   "metadata": {},
   "source": [
    "A)operations done in vector directions meaning in a specific part of the array\n",
    "B)vectorized opertaions mean that the whole code of the file can be written array-oriented\n",
    "C)Data is stored in a compressed way to save storage\n",
    "D)Can apply mathematical operations without the need of applying loops\n",
    "\n",
    "ANSWER: D"
   ]
  },
  {
   "cell_type": "markdown",
   "metadata": {},
   "source": [
    "# Q10: In which form is data stored in NumPy."
   ]
  },
  {
   "cell_type": "raw",
   "metadata": {},
   "source": [
    "A)CSV\n",
    "B)ndarray\n",
    "C)List\n",
    "D)String of numbers\n",
    "\n",
    "ANSWER: B"
   ]
  },
  {
   "cell_type": "code",
   "execution_count": null,
   "metadata": {},
   "outputs": [],
   "source": []
  }
 ],
 "metadata": {
  "kernelspec": {
   "display_name": "Python 3",
   "language": "python",
   "name": "python3"
  },
  "language_info": {
   "codemirror_mode": {
    "name": "ipython",
    "version": 3
   },
   "file_extension": ".py",
   "mimetype": "text/x-python",
   "name": "python",
   "nbconvert_exporter": "python",
   "pygments_lexer": "ipython3",
   "version": "3.7.6"
  }
 },
 "nbformat": 4,
 "nbformat_minor": 4
}
